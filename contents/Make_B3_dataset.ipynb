{
  "nbformat": 4,
  "nbformat_minor": 0,
  "metadata": {
    "colab": {
      "name": "Make_B3_dataset.ipynb",
      "provenance": [],
      "collapsed_sections": []
    },
    "kernelspec": {
      "name": "python3",
      "display_name": "Python 3"
    }
  },
  "cells": [
    {
      "cell_type": "code",
      "metadata": {
        "id": "4Z1mNf_715a9",
        "colab_type": "code",
        "colab": {}
      },
      "source": [
        "#Load libraries\n",
        "import pandas as pd\n",
        "import os"
      ],
      "execution_count": 0,
      "outputs": []
    },
    {
      "cell_type": "code",
      "metadata": {
        "id": "L1o2bOIG7Baq",
        "colab_type": "code",
        "colab": {}
      },
      "source": [
        "def get_characters(source,start = 0, end = 5, as_numeric=False):\n",
        "\n",
        "  '''This is an auxiliary function that is called by function split_columns.\n",
        "  It is not meant to be used directly by the user.\n",
        "  \n",
        "  Given a string of characters, split it from character number *start* to character number *end*-1.\n",
        "  Some columns in B3's original dataset are monetary quantities given as strings with trailing zeros.\n",
        "  Hence, for example, 000001234 to indicate R$12,34. Setting as_numeric=True removes the trailing zeros\n",
        "  and converts the variable to numeric type.'''\n",
        "\n",
        "  piece = source.str.slice(start, end)\n",
        "  \n",
        "  if as_numeric:\n",
        "    #Convert to number\n",
        "    piece = pd.to_numeric(piece)\n",
        "  else:\n",
        "    #Remove trailing spaces\n",
        "    piece = piece.str.strip()\n",
        "  \n",
        "  return(piece)"
      ],
      "execution_count": 0,
      "outputs": []
    },
    {
      "cell_type": "code",
      "metadata": {
        "id": "cEi29Z9a7UkY",
        "colab_type": "code",
        "colab": {}
      },
      "source": [
        "\n",
        "def split_columns(file):\n",
        "\n",
        "  '''This is an auxiliary function that is called by function get_dataset.\n",
        "  It is not meant to be used directly by the user.\n",
        "\n",
        "  The original file from B3 is a single column with sequential characters.\n",
        "  This function splits that column into multiple columns,\n",
        "  one with each variable.'''\n",
        "  \n",
        "  source = pd.Series(file.iloc[:,0])\n",
        "\n",
        "  output = pd.DataFrame()\n",
        "  output['date'] = get_characters(source, 2, 10)\n",
        "  output['BDI'] = get_characters(source, 10, 12)\n",
        "  output['security'] = get_characters(source, 12, 24)\n",
        "  output['market_type'] = get_characters(source, 24, 27)\n",
        "  output['company'] = get_characters(source, 27, 39)\n",
        "  output['specification'] = get_characters(source, 39, 49)\n",
        "  output['currency'] = get_characters(source, 52, 56)\n",
        "  output['open'] = get_characters(source, 56, 69, as_numeric=True)\n",
        "  output['high'] = get_characters(source, 69, 82, as_numeric=True)\n",
        "  output['low'] = get_characters(source, 82, 95, as_numeric=True)\n",
        "  output['average'] = get_characters(source, 95, 108, as_numeric=True)\n",
        "  output['close'] = get_characters(source, 108, 121, as_numeric=True)\n",
        "  output['volume'] = get_characters(source, 170, 188, as_numeric=True)\n",
        "\n",
        "  return(output)"
      ],
      "execution_count": 0,
      "outputs": []
    },
    {
      "cell_type": "code",
      "metadata": {
        "id": "MwJj5Pf1FNeI",
        "colab_type": "code",
        "colab": {}
      },
      "source": [
        "def get_dataset(file_path):\n",
        "\n",
        "  '''The main function.\n",
        "  Read the csv file with the raw data from B3 and puts it into tidy format'''\n",
        "\n",
        "  import pandas as pd\n",
        "\n",
        "  file = pd.read_csv(file_path)\n",
        "  file = file.iloc[:(len(file)-1),:] #Remove last row\n",
        "  file = split_columns(file)\n",
        "\n",
        "  return(file)"
      ],
      "execution_count": 0,
      "outputs": []
    },
    {
      "cell_type": "code",
      "metadata": {
        "id": "9AzlBbXY2WwJ",
        "colab_type": "code",
        "outputId": "2b3b0b15-b90a-4563-abc6-63a417cc1d47",
        "colab": {
          "base_uri": "https://localhost:8080/",
          "height": 329
        }
      },
      "source": [
        "#Unzip files (exactly as downloaded from B3)\n",
        "!unzip COTAHIST_A2020\n",
        "!unzip COTAHIST_A2019\n",
        "!unzip COTAHIST_A2018\n",
        "!unzip COTAHIST_A2017\n",
        "!unzip COTAHIST_A2016\n",
        "!unzip COTAHIST_A2015"
      ],
      "execution_count": 13,
      "outputs": [
        {
          "output_type": "stream",
          "text": [
            "Archive:  COTAHIST_A2020.ZIP\n",
            "replace COTAHIST_A2020.TXT? [y]es, [n]o, [A]ll, [N]one, [r]ename: y\n",
            "  inflating: COTAHIST_A2020.TXT      \n",
            "Archive:  COTAHIST_A2019.ZIP\n",
            "replace COTAHIST_A2019.TXT? [y]es, [n]o, [A]ll, [N]one, [r]ename: y\n",
            "  inflating: COTAHIST_A2019.TXT      \n",
            "Archive:  COTAHIST_A2018.ZIP\n",
            "replace COTAHIST_A2018.TXT? [y]es, [n]o, [A]ll, [N]one, [r]ename: y\n",
            "  inflating: COTAHIST_A2018.TXT      \n",
            "Archive:  COTAHIST_A2017.ZIP\n",
            "replace COTAHIST_A2017.TXT? [y]es, [n]o, [A]ll, [N]one, [r]ename: y\n",
            "  inflating: COTAHIST_A2017.TXT      \n",
            "Archive:  COTAHIST_A2016.ZIP\n",
            "replace COTAHIST_A2016.TXT? [y]es, [n]o, [A]ll, [N]one, [r]ename: y\n",
            "  inflating: COTAHIST_A2016.TXT      \n",
            "Archive:  COTAHIST_A2015.ZIP\n",
            "replace COTAHIST_A2015.TXT? [y]es, [n]o, [A]ll, [N]one, [r]ename: y\n",
            "  inflating: COTAHIST_A2015.TXT      \n"
          ],
          "name": "stdout"
        }
      ]
    },
    {
      "cell_type": "code",
      "metadata": {
        "id": "QvqPLXjfNruM",
        "colab_type": "code",
        "colab": {}
      },
      "source": [
        "file1 = get_dataset('COTAHIST_A2020.TXT')\n",
        "file2 = get_dataset('COTAHIST_A2019.TXT')\n",
        "file3 = get_dataset('COTAHIST_A2018.TXT')\n",
        "file4 = get_dataset('COTAHIST_A2017.TXT')\n",
        "file5 = get_dataset('COTAHIST_A2016.TXT')\n",
        "file6 = get_dataset('COTAHIST_A2015.TXT')"
      ],
      "execution_count": 0,
      "outputs": []
    },
    {
      "cell_type": "code",
      "metadata": {
        "id": "llLqKFTfOPlH",
        "colab_type": "code",
        "colab": {}
      },
      "source": [
        "assert (file1.columns == file2.columns).all()\n",
        "assert (file1.columns == file3.columns).all()\n",
        "assert (file1.columns == file4.columns).all()\n",
        "assert (file1.columns == file5.columns).all()\n",
        "assert (file1.columns == file6.columns).all()"
      ],
      "execution_count": 0,
      "outputs": []
    },
    {
      "cell_type": "code",
      "metadata": {
        "id": "U0tLFmQYOu0t",
        "colab_type": "code",
        "outputId": "a7af0180-ac31-4381-e9ff-0a5577bf3241",
        "colab": {
          "base_uri": "https://localhost:8080/",
          "height": 35
        }
      },
      "source": [
        "file = pd.concat([file1, file2,file3, file4, file5, file6])\n",
        "print(file.shape)"
      ],
      "execution_count": 17,
      "outputs": [
        {
          "output_type": "stream",
          "text": [
            "(3037272, 13)\n"
          ],
          "name": "stdout"
        }
      ]
    },
    {
      "cell_type": "code",
      "metadata": {
        "id": "vWTxd6MiO7Ak",
        "colab_type": "code",
        "colab": {}
      },
      "source": [
        "#Save file\n",
        "file.to_parquet(path='B3.gzip')"
      ],
      "execution_count": 0,
      "outputs": []
    },
    {
      "cell_type": "code",
      "metadata": {
        "id": "dwG7E5ZDnN7V",
        "colab_type": "code",
        "colab": {
          "base_uri": "https://localhost:8080/",
          "height": 239
        },
        "outputId": "4b2f03e5-3e98-49fa-dda2-546654968c1e"
      },
      "source": [
        "#Check if it worked by loading file again and seeing a sample\n",
        "file_again = pd.read_parquet('B3.gzip')\n",
        "file_again.sample(5)"
      ],
      "execution_count": 19,
      "outputs": [
        {
          "output_type": "execute_result",
          "data": {
            "text/html": [
              "<div>\n",
              "<style scoped>\n",
              "    .dataframe tbody tr th:only-of-type {\n",
              "        vertical-align: middle;\n",
              "    }\n",
              "\n",
              "    .dataframe tbody tr th {\n",
              "        vertical-align: top;\n",
              "    }\n",
              "\n",
              "    .dataframe thead th {\n",
              "        text-align: right;\n",
              "    }\n",
              "</style>\n",
              "<table border=\"1\" class=\"dataframe\">\n",
              "  <thead>\n",
              "    <tr style=\"text-align: right;\">\n",
              "      <th></th>\n",
              "      <th>date</th>\n",
              "      <th>BDI</th>\n",
              "      <th>security</th>\n",
              "      <th>market_type</th>\n",
              "      <th>company</th>\n",
              "      <th>specification</th>\n",
              "      <th>currency</th>\n",
              "      <th>open</th>\n",
              "      <th>high</th>\n",
              "      <th>low</th>\n",
              "      <th>average</th>\n",
              "      <th>close</th>\n",
              "      <th>volume</th>\n",
              "    </tr>\n",
              "  </thead>\n",
              "  <tbody>\n",
              "    <tr>\n",
              "      <th>317538</th>\n",
              "      <td>20180723</td>\n",
              "      <td>96</td>\n",
              "      <td>PARD3F</td>\n",
              "      <td>020</td>\n",
              "      <td>IHPARDINI</td>\n",
              "      <td>ON      NM</td>\n",
              "      <td>R$</td>\n",
              "      <td>1900</td>\n",
              "      <td>1900</td>\n",
              "      <td>1817</td>\n",
              "      <td>1851</td>\n",
              "      <td>1817</td>\n",
              "      <td>490634</td>\n",
              "    </tr>\n",
              "    <tr>\n",
              "      <th>601222</th>\n",
              "      <td>20190913</td>\n",
              "      <td>78</td>\n",
              "      <td>BBSEJ31</td>\n",
              "      <td>070</td>\n",
              "      <td>BBSE</td>\n",
              "      <td>ON      NM</td>\n",
              "      <td>R$</td>\n",
              "      <td>347</td>\n",
              "      <td>347</td>\n",
              "      <td>347</td>\n",
              "      <td>347</td>\n",
              "      <td>347</td>\n",
              "      <td>4511000</td>\n",
              "    </tr>\n",
              "    <tr>\n",
              "      <th>670943</th>\n",
              "      <td>20191025</td>\n",
              "      <td>82</td>\n",
              "      <td>CSNAW134</td>\n",
              "      <td>080</td>\n",
              "      <td>CSNAE</td>\n",
              "      <td>ON</td>\n",
              "      <td>R$</td>\n",
              "      <td>100</td>\n",
              "      <td>130</td>\n",
              "      <td>100</td>\n",
              "      <td>105</td>\n",
              "      <td>130</td>\n",
              "      <td>328000</td>\n",
              "    </tr>\n",
              "    <tr>\n",
              "      <th>323811</th>\n",
              "      <td>20160909</td>\n",
              "      <td>78</td>\n",
              "      <td>FIBRI52</td>\n",
              "      <td>070</td>\n",
              "      <td>FIBR</td>\n",
              "      <td>ON      NM</td>\n",
              "      <td>R$</td>\n",
              "      <td>70</td>\n",
              "      <td>80</td>\n",
              "      <td>70</td>\n",
              "      <td>77</td>\n",
              "      <td>80</td>\n",
              "      <td>463400</td>\n",
              "    </tr>\n",
              "    <tr>\n",
              "      <th>127731</th>\n",
              "      <td>20160411</td>\n",
              "      <td>12</td>\n",
              "      <td>BPFF11</td>\n",
              "      <td>010</td>\n",
              "      <td>FII ABSOLUTO</td>\n",
              "      <td>CI  ER</td>\n",
              "      <td>R$</td>\n",
              "      <td>7198</td>\n",
              "      <td>7200</td>\n",
              "      <td>7102</td>\n",
              "      <td>7154</td>\n",
              "      <td>7102</td>\n",
              "      <td>12055765</td>\n",
              "    </tr>\n",
              "  </tbody>\n",
              "</table>\n",
              "</div>"
            ],
            "text/plain": [
              "            date BDI  security market_type  ...   low average close    volume\n",
              "317538  20180723  96    PARD3F         020  ...  1817    1851  1817    490634\n",
              "601222  20190913  78   BBSEJ31         070  ...   347     347   347   4511000\n",
              "670943  20191025  82  CSNAW134         080  ...   100     105   130    328000\n",
              "323811  20160909  78   FIBRI52         070  ...    70      77    80    463400\n",
              "127731  20160411  12    BPFF11         010  ...  7102    7154  7102  12055765\n",
              "\n",
              "[5 rows x 13 columns]"
            ]
          },
          "metadata": {
            "tags": []
          },
          "execution_count": 19
        }
      ]
    },
    {
      "cell_type": "code",
      "metadata": {
        "id": "GvukUwoKqoYU",
        "colab_type": "code",
        "colab": {}
      },
      "source": [
        ""
      ],
      "execution_count": 0,
      "outputs": []
    }
  ]
}