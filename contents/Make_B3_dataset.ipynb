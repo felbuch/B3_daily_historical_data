{
  "nbformat": 4,
  "nbformat_minor": 0,
  "metadata": {
    "colab": {
      "name": "Make_B3_dataset.ipynb",
      "provenance": [],
      "collapsed_sections": []
    },
    "kernelspec": {
      "name": "python3",
      "display_name": "Python 3"
    }
  },
  "cells": [
    {
      "cell_type": "code",
      "metadata": {
        "id": "4Z1mNf_715a9",
        "colab_type": "code",
        "colab": {}
      },
      "source": [
        "#Load libraries\n",
        "import pandas as pd\n",
        "import os"
      ],
      "execution_count": 0,
      "outputs": []
    },
    {
      "cell_type": "code",
      "metadata": {
        "id": "L1o2bOIG7Baq",
        "colab_type": "code",
        "colab": {}
      },
      "source": [
        "def get_characters(source,start = 0, end = 5, as_numeric=False):\n",
        "\n",
        "  '''This is an auxiliary function that is called by function split_columns.\n",
        "  It is not meant to be used directly by the user.\n",
        "  \n",
        "  Given a string of characters, split it from character number *start* to character number *end*-1.\n",
        "  Some columns in B3's original dataset are monetary quantities given as strings with trailing zeros.\n",
        "  Hence, for example, 000001234 to indicate R$12,34. Setting as_numeric=True removes the trailing zeros\n",
        "  and converts the variable to numeric type.'''\n",
        "\n",
        "  piece = source.str.slice(start, end)\n",
        "  \n",
        "  if as_numeric:\n",
        "    #Convert to number\n",
        "    piece = pd.to_numeric(piece)\n",
        "  else:\n",
        "    #Remove trailing spaces\n",
        "    piece = piece.str.strip()\n",
        "  \n",
        "  return(piece)"
      ],
      "execution_count": 0,
      "outputs": []
    },
    {
      "cell_type": "code",
      "metadata": {
        "id": "cEi29Z9a7UkY",
        "colab_type": "code",
        "colab": {}
      },
      "source": [
        "\n",
        "def split_columns(file):\n",
        "\n",
        "  '''This is an auxiliary function that is called by function get_dataset.\n",
        "  It is not meant to be used directly by the user.\n",
        "\n",
        "  The original file from B3 is a single column with sequential characters.\n",
        "  This function splits that column into multiple columns,\n",
        "  one with each variable.'''\n",
        "  \n",
        "  source = pd.Series(file.iloc[:,0])\n",
        "\n",
        "  output = pd.DataFrame()\n",
        "  output['date'] = get_characters(source, 2, 10)\n",
        "  output['BDI'] = get_characters(source, 10, 12)\n",
        "  output['security'] = get_characters(source, 12, 24)\n",
        "  output['market_type'] = get_characters(source, 24, 27)\n",
        "  output['company'] = get_characters(source, 27, 39)\n",
        "  output['specification'] = get_characters(source, 39, 49)\n",
        "  output['currency'] = get_characters(source, 52, 56)\n",
        "  output['open'] = get_characters(source, 56, 69, as_numeric=True)\n",
        "  output['high'] = get_characters(source, 69, 82, as_numeric=True)\n",
        "  output['low'] = get_characters(source, 82, 95, as_numeric=True)\n",
        "  output['average'] = get_characters(source, 95, 108, as_numeric=True)\n",
        "  output['close'] = get_characters(source, 108, 121, as_numeric=True)\n",
        "  output['volume'] = get_characters(source, 170, 188, as_numeric=True)\n",
        "\n",
        "  return(output)"
      ],
      "execution_count": 0,
      "outputs": []
    },
    {
      "cell_type": "code",
      "metadata": {
        "id": "MwJj5Pf1FNeI",
        "colab_type": "code",
        "colab": {}
      },
      "source": [
        "def get_dataset(file_path):\n",
        "\n",
        "  '''The main function.\n",
        "  Read the csv file with the raw data from B3 and puts it into tidy format'''\n",
        "\n",
        "  import pandas as pd\n",
        "\n",
        "  file = pd.read_csv(file_path)\n",
        "  file = file.iloc[:(len(file)-1),:] #Remove last row\n",
        "  file = split_columns(file)\n",
        "  file['date'] = pd.to_datetime(file['date'], format='%Y%m%d') #Set date to datetime format\n",
        "\n",
        "  return(file)"
      ],
      "execution_count": 0,
      "outputs": []
    },
    {
      "cell_type": "code",
      "metadata": {
        "id": "9AzlBbXY2WwJ",
        "colab_type": "code",
        "outputId": "76c9b3b8-5750-4098-8d26-918115395616",
        "colab": {
          "base_uri": "https://localhost:8080/",
          "height": 225
        }
      },
      "source": [
        "#Unzip files (exactly as downloaded from B3)\n",
        "!unzip COTAHIST_A2020\n",
        "!unzip COTAHIST_A2019\n",
        "!unzip COTAHIST_A2018\n",
        "!unzip COTAHIST_A2017\n",
        "!unzip COTAHIST_A2016\n",
        "!unzip COTAHIST_A2015"
      ],
      "execution_count": 9,
      "outputs": [
        {
          "output_type": "stream",
          "text": [
            "Archive:  COTAHIST_A2020.ZIP\n",
            "  inflating: COTAHIST_A2020.TXT      \n",
            "Archive:  COTAHIST_A2019.ZIP\n",
            "  inflating: COTAHIST_A2019.TXT      \n",
            "Archive:  COTAHIST_A2018.ZIP\n",
            "  inflating: COTAHIST_A2018.TXT      \n",
            "Archive:  COTAHIST_A2017.ZIP\n",
            "  inflating: COTAHIST_A2017.TXT      \n",
            "Archive:  COTAHIST_A2016.ZIP\n",
            "  inflating: COTAHIST_A2016.TXT      \n",
            "Archive:  COTAHIST_A2015.ZIP\n",
            "  inflating: COTAHIST_A2015.TXT      \n"
          ],
          "name": "stdout"
        }
      ]
    },
    {
      "cell_type": "code",
      "metadata": {
        "id": "QvqPLXjfNruM",
        "colab_type": "code",
        "colab": {}
      },
      "source": [
        "file1 = get_dataset('COTAHIST_A2020.TXT')\n",
        "file2 = get_dataset('COTAHIST_A2019.TXT')\n",
        "file3 = get_dataset('COTAHIST_A2018.TXT')\n",
        "file4 = get_dataset('COTAHIST_A2017.TXT')\n",
        "file5 = get_dataset('COTAHIST_A2016.TXT')\n",
        "file6 = get_dataset('COTAHIST_A2015.TXT')"
      ],
      "execution_count": 0,
      "outputs": []
    },
    {
      "cell_type": "code",
      "metadata": {
        "id": "llLqKFTfOPlH",
        "colab_type": "code",
        "colab": {}
      },
      "source": [
        "assert (file1.columns == file2.columns).all()\n",
        "assert (file1.columns == file3.columns).all()\n",
        "assert (file1.columns == file4.columns).all()\n",
        "assert (file1.columns == file5.columns).all()\n",
        "assert (file1.columns == file6.columns).all()"
      ],
      "execution_count": 0,
      "outputs": []
    },
    {
      "cell_type": "code",
      "metadata": {
        "id": "U0tLFmQYOu0t",
        "colab_type": "code",
        "outputId": "cad66b12-672f-41e8-9121-91ddc0361077",
        "colab": {
          "base_uri": "https://localhost:8080/",
          "height": 35
        }
      },
      "source": [
        "file = pd.concat([file1, file2,file3, file4, file5, file6])\n",
        "print(file.shape)"
      ],
      "execution_count": 12,
      "outputs": [
        {
          "output_type": "stream",
          "text": [
            "(3037272, 13)\n"
          ],
          "name": "stdout"
        }
      ]
    },
    {
      "cell_type": "code",
      "metadata": {
        "id": "vWTxd6MiO7Ak",
        "colab_type": "code",
        "colab": {}
      },
      "source": [
        "#Save file\n",
        "file.to_parquet(path='B3.gzip')"
      ],
      "execution_count": 0,
      "outputs": []
    },
    {
      "cell_type": "code",
      "metadata": {
        "id": "dwG7E5ZDnN7V",
        "colab_type": "code",
        "outputId": "bd5191f7-5130-4e5f-ad76-ad7d74792219",
        "colab": {
          "base_uri": "https://localhost:8080/",
          "height": 309
        }
      },
      "source": [
        "#Check if it worked by loading file again and seeing a sample\n",
        "file_again = pd.read_parquet('B3.gzip')\n",
        "file_again.sample(5)"
      ],
      "execution_count": 14,
      "outputs": [
        {
          "output_type": "execute_result",
          "data": {
            "text/html": [
              "<div>\n",
              "<style scoped>\n",
              "    .dataframe tbody tr th:only-of-type {\n",
              "        vertical-align: middle;\n",
              "    }\n",
              "\n",
              "    .dataframe tbody tr th {\n",
              "        vertical-align: top;\n",
              "    }\n",
              "\n",
              "    .dataframe thead th {\n",
              "        text-align: right;\n",
              "    }\n",
              "</style>\n",
              "<table border=\"1\" class=\"dataframe\">\n",
              "  <thead>\n",
              "    <tr style=\"text-align: right;\">\n",
              "      <th></th>\n",
              "      <th>date</th>\n",
              "      <th>BDI</th>\n",
              "      <th>security</th>\n",
              "      <th>market_type</th>\n",
              "      <th>company</th>\n",
              "      <th>specification</th>\n",
              "      <th>currency</th>\n",
              "      <th>open</th>\n",
              "      <th>high</th>\n",
              "      <th>low</th>\n",
              "      <th>average</th>\n",
              "      <th>close</th>\n",
              "      <th>volume</th>\n",
              "    </tr>\n",
              "  </thead>\n",
              "  <tbody>\n",
              "    <tr>\n",
              "      <th>329687</th>\n",
              "      <td>2016-09-14</td>\n",
              "      <td>02</td>\n",
              "      <td>ENGI4</td>\n",
              "      <td>010</td>\n",
              "      <td>ENERGISA</td>\n",
              "      <td>PN      N2</td>\n",
              "      <td>R$</td>\n",
              "      <td>413</td>\n",
              "      <td>413</td>\n",
              "      <td>405</td>\n",
              "      <td>406</td>\n",
              "      <td>406</td>\n",
              "      <td>2639400</td>\n",
              "    </tr>\n",
              "    <tr>\n",
              "      <th>237025</th>\n",
              "      <td>2015-08-05</td>\n",
              "      <td>96</td>\n",
              "      <td>FJTA2F</td>\n",
              "      <td>020</td>\n",
              "      <td>FORJA TAURUS</td>\n",
              "      <td>DIR PRE N2</td>\n",
              "      <td>R$</td>\n",
              "      <td>1</td>\n",
              "      <td>1</td>\n",
              "      <td>1</td>\n",
              "      <td>1</td>\n",
              "      <td>1</td>\n",
              "      <td>89</td>\n",
              "    </tr>\n",
              "    <tr>\n",
              "      <th>49905</th>\n",
              "      <td>2018-02-01</td>\n",
              "      <td>78</td>\n",
              "      <td>GGBRB152</td>\n",
              "      <td>070</td>\n",
              "      <td>GGBRE</td>\n",
              "      <td>PN      N1</td>\n",
              "      <td>R$</td>\n",
              "      <td>28</td>\n",
              "      <td>39</td>\n",
              "      <td>28</td>\n",
              "      <td>37</td>\n",
              "      <td>39</td>\n",
              "      <td>22300</td>\n",
              "    </tr>\n",
              "    <tr>\n",
              "      <th>683782</th>\n",
              "      <td>2019-11-01</td>\n",
              "      <td>78</td>\n",
              "      <td>VALEL570</td>\n",
              "      <td>070</td>\n",
              "      <td>VALEE</td>\n",
              "      <td>ON      NM</td>\n",
              "      <td>R$</td>\n",
              "      <td>12</td>\n",
              "      <td>12</td>\n",
              "      <td>10</td>\n",
              "      <td>10</td>\n",
              "      <td>11</td>\n",
              "      <td>132600</td>\n",
              "    </tr>\n",
              "    <tr>\n",
              "      <th>246454</th>\n",
              "      <td>2018-06-07</td>\n",
              "      <td>62</td>\n",
              "      <td>PFRM3T</td>\n",
              "      <td>030</td>\n",
              "      <td>PROFARMA</td>\n",
              "      <td>ON      NM</td>\n",
              "      <td>R$</td>\n",
              "      <td>383</td>\n",
              "      <td>384</td>\n",
              "      <td>383</td>\n",
              "      <td>383</td>\n",
              "      <td>384</td>\n",
              "      <td>689798</td>\n",
              "    </tr>\n",
              "  </tbody>\n",
              "</table>\n",
              "</div>"
            ],
            "text/plain": [
              "             date BDI  security market_type  ...  low average close   volume\n",
              "329687 2016-09-14  02     ENGI4         010  ...  405     406   406  2639400\n",
              "237025 2015-08-05  96    FJTA2F         020  ...    1       1     1       89\n",
              "49905  2018-02-01  78  GGBRB152         070  ...   28      37    39    22300\n",
              "683782 2019-11-01  78  VALEL570         070  ...   10      10    11   132600\n",
              "246454 2018-06-07  62    PFRM3T         030  ...  383     383   384   689798\n",
              "\n",
              "[5 rows x 13 columns]"
            ]
          },
          "metadata": {
            "tags": []
          },
          "execution_count": 14
        }
      ]
    },
    {
      "cell_type": "code",
      "metadata": {
        "id": "GvukUwoKqoYU",
        "colab_type": "code",
        "colab": {
          "base_uri": "https://localhost:8080/",
          "height": 35
        },
        "outputId": "f2edfcc7-6029-4fbb-dddc-eec66eaef48d"
      },
      "source": [
        ""
      ],
      "execution_count": 39,
      "outputs": [
        {
          "output_type": "execute_result",
          "data": {
            "text/plain": [
              "1"
            ]
          },
          "metadata": {
            "tags": []
          },
          "execution_count": 39
        }
      ]
    },
    {
      "cell_type": "code",
      "metadata": {
        "id": "_jJ6jnAf0s_v",
        "colab_type": "code",
        "colab": {}
      },
      "source": [
        ""
      ],
      "execution_count": 0,
      "outputs": []
    }
  ]
}